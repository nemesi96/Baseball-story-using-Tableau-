{
 "cells": [
  {
   "cell_type": "markdown",
   "metadata": {},
   "source": [
    "#### 29th Sept. 2017\n",
    "Explanatory Analysis  of Baseball  Data\n",
    "==================\n",
    "by VISHNU PRASANTH REDDY\n",
    "--------------------------\n",
    "\n"
   ]
  },
  {
   "cell_type": "markdown",
   "metadata": {},
   "source": [
    "<b>SUMMARY :</b> \n",
    "\n",
    "The given data has 1158 keys and 6 Features ,I've done the data cleaning for the feature <b>\"Handedness\"</b>. when i explored the data sheet ,the first thing which i'm curious about was<b> \"TOP PLAYERS\" </b>and <b>\"Handedness count \" </b>followed by their Physique and Scoring Average.Since the given data has only few dimensions,I've utilised Measures as primary factor for analysing .The graphs which I've used in my Explanatory analysis are Bar-chart,Piechart and Scatter-plot .Before introducing Physique analysis in my visualisation I took a feedback from fellow udacity students ,from their feedback i've analysed the relationship between player's physique and scoring ability.\n",
    "\n",
    "Initial Version :https://public.tableau.com/profile/vishnu.prasanth.reddy#!/vizhome/Baseballplayeranalysis/Story1\n",
    "\n",
    "Final Version : https://public.tableau.com/profile/vishnu.prasanth.reddy#!/vizhome/Baseballplayerfinalanalysis/Story1\n",
    "\n",
    "\n",
    "<b>Design :</b> \n",
    "\n",
    "1.To know the top 15 players with higest HR(home runs) i've plotted HR vs names and filtered the first 15 players in descending order .Handedness Count was visualised with pie-chart ,because the distribution will look nice since there wre only 3 categories. It was found that most of the players were right handed.\n",
    "\n",
    "2.TO Know the top players in Handedness category i've plotted a Bar-graph with Handedness/Names on Y-position and HR on X-position .I've choosed bar graph because since i'm comparing the top players ,bar-graph will show the best comparission with bars and I've took the set of higest HR's scored in each Handedness category and visual encoded with color.\n",
    "\n",
    "3.TO analyse the Physique I've used 2 features Height and weight,it's been found that the relation between Height nd weight is Directly propotional.I've created a new Measure called<b>'BMI'</b> by applying the formula <mark>'[Weight]*705/([Height]^2) '</mark>.\n",
    "by considering BMI I've introduced a new feature <b>'BMI class'</b> with 3 Categories (Normal,Over-weight and Obese) .In the BMI distribution scatterplot(Height vs. Weight) i've used color and shape encoding for 'BMI Class'.Here I've used scatter plot because the changes Bmi class from(normal to over-weight) can be clearly noticable with changes in height and weight .\n",
    "\n",
    "4.To know the scoring ability I'-ve created firstly i've ploted HR vs Batting average by color and shape encoding with handedness,ddetail with BMI class.I've also plotted Batting average Vs. HandedNess/BMI class .Here I've took a set of BMI categories faceted with handedness which has highest batting average and encoded them with color .It's been found that Over-werigh leads to less batting Average(in most of the cases) .\n",
    "\n",
    "<b>FeedBack : </b> Taking feedback from fellow udacity students helped me a lot in getting things organised,clear and be more precise in presenting the analysis. The first feedback i recieved was my visuals were showing much the information about players,home runs and their handedness .so, i explored the factors which are affecting the player's scoring ability suich as physique ,BMI and BMI class .From the first sketch till last sketch a lot has changed in the presentation and i went more curious in exploration phase .\n",
    "\n",
    "<b>Resources :</b> I reffered gallery on Tableau "
   ]
  }
 ],
 "metadata": {
  "kernelspec": {
   "display_name": "Python 2",
   "language": "python",
   "name": "python2"
  },
  "language_info": {
   "codemirror_mode": {
    "name": "ipython",
    "version": 2
   },
   "file_extension": ".py",
   "mimetype": "text/x-python",
   "name": "python",
   "nbconvert_exporter": "python",
   "pygments_lexer": "ipython2",
   "version": "2.7.13"
  }
 },
 "nbformat": 4,
 "nbformat_minor": 2
}
